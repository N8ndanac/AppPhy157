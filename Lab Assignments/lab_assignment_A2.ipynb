{
  "nbformat": 4,
  "nbformat_minor": 0,
  "metadata": {
    "colab": {
      "provenance": []
    },
    "kernelspec": {
      "name": "python3",
      "display_name": "Python 3"
    }
  },
  "cells": [
    {
      "cell_type": "markdown",
      "metadata": {
        "id": "ST5d6dw3dLZh"
      },
      "source": [
        "# **AP157 Machine Learning Lab Assignment**\n",
        "## Module A.2: Classification -- Morphological Classification of Galaxies using Decision Trees\n",
        "\n",
        "_Instructions_: Answer each part of the assignment as completely as you can. Discuss **all** your code and results as clearly and concisely as possible.\n",
        "\n",
        "_Scoring Criteria_: 50% - *correctness of code*; 50% - *discussion of the code and results*. Maximum score is **100 points** (Parts 1, 2, and 3 are worth 20, 40, and 40 points, respectively).\n",
        "\n",
        "_Credits_: This assignment is based on the Week 6 module of the Coursera course \"Data-driven Astronomy\", \"Exploring machine learning classification\" ([link](https://www.coursera.org/learn/data-driven-astronomy/home/welcome))"
      ]
    },
    {
      "cell_type": "markdown",
      "metadata": {
        "id": "iZZaEzKHdVYG"
      },
      "source": [
        "### Student Information\n",
        "\n",
        "_Full Name (Last Name, First Name)_: \\ Danac, Nathan Gabriel C.\n",
        "_Student No._:\\ 2021-12517\n",
        "_Section_: THX-2"
      ]
    },
    {
      "cell_type": "markdown",
      "metadata": {
        "id": "Xv1STpPodaDL"
      },
      "source": [
        "### Submission Information\n",
        "\n",
        "_Date and Time Submitted (most recent upload)_:\n",
        "\n",
        "**HONOR PLEDGE** I affirm that I have upheld the highest principles of honesty and integrity in my academic work and that this lab assignment is my own work.\n",
        "\n",
        "**Sign here with your full name:** NATHAN GABRIEL C. DANAC"
      ]
    },
    {
      "cell_type": "markdown",
      "metadata": {
        "id": "8zw1kC_rdoHT"
      },
      "source": [
        "### Grading Information (c/o Instructor)\n",
        "\n",
        "TOTAL SCORE: **[]**/100\n",
        "\n",
        "Score breakdown:\n",
        "* Part 1 - []/20\n",
        "* Part 2 - []/40\n",
        "* Part 3 - []/40\n",
        "\n",
        "_Date and Time Scored (MM/DD/YYYY HH:MM AM/PM):_"
      ]
    },
    {
      "cell_type": "markdown",
      "metadata": {
        "id": "UNaYs-MfeDRl"
      },
      "source": [
        "For this assignment, you will work with galaxy data from the\n",
        "Sloan Digital Sky Survey (SDSS). First, you need to make a copy of the binary file ```galaxy_catalogue.npy``` and save it to a folder in your **own Google Drive**. This file is available from the AP157 Machine Learning Google Drive (under the Datasets folder).\n",
        "\n",
        "The code cells below will (1) mount your Google Drive and (2) load ```galaxy_catalogue.npy``` from your Google Drive folder."
      ]
    },
    {
      "cell_type": "markdown",
      "metadata": {
        "id": "ee1mHlUWfcsc"
      },
      "source": [
        "Mount the Google Drive where you saved the .npy file.\n",
        "\n",
        "When you run this cell, you will be asked to sign in to your Google account and you will get an authorization code. Paste the code on the provided cell to mount the Google Drive."
      ]
    },
    {
      "cell_type": "code",
      "metadata": {
        "id": "yH0IOwb1YBHc",
        "colab": {
          "base_uri": "https://localhost:8080/"
        },
        "outputId": "e9461243-84f5-4424-8bcc-80d27ca0404e"
      },
      "source": [
        "from google.colab import drive\n",
        "drive.mount(\"/content/drive\")"
      ],
      "execution_count": 1,
      "outputs": [
        {
          "output_type": "stream",
          "name": "stdout",
          "text": [
            "Drive already mounted at /content/drive; to attempt to forcibly remount, call drive.mount(\"/content/drive\", force_remount=True).\n"
          ]
        }
      ]
    },
    {
      "cell_type": "markdown",
      "metadata": {
        "id": "k0C5c-8ofqDu"
      },
      "source": [
        "Run this command to list the directories in your Google Drive and check that the mount was successful."
      ]
    },
    {
      "cell_type": "code",
      "metadata": {
        "id": "mzKLlj20fsJu",
        "colab": {
          "base_uri": "https://localhost:8080/"
        },
        "outputId": "54675667-e7d9-4446-e12e-00f4bb0d9deb"
      },
      "source": [
        "!ls drive/My\\ Drive"
      ],
      "execution_count": 2,
      "outputs": [
        {
          "output_type": "stream",
          "name": "stdout",
          "text": [
            " 1CF6C7D4-8572-477F-A9FC-011622283AAA.jpeg\n",
            " 202112517.jpg\n",
            " 368558347_1963812437309799_6475282470010724712_n.jpg\n",
            " 406EF345-02D5-4C31-9918-38B9A941F362.jpeg\n",
            " 63E62B20-2594-4300-9873-74CEC37ED2EF.jpeg\n",
            " 92A266EA-248D-479F-9766-FB6AED86D6C0.jpeg\n",
            " AP155\n",
            " AP157\n",
            "'AY 2021-2022'\n",
            "'AY 2022-2023'\n",
            " Books\n",
            " CA3D50A2-7F36-4C8B-B098-17565C15242A.jpeg\n",
            " Classroom\n",
            "'Colab Notebooks'\n",
            "'Copy of IMG_2082.jpg'\n",
            "'Copy of Physics_108_Academic_Integrity_Statement_2023.docx'\n",
            "'Copy of Physics_108_Academic_Integrity_Statement_2023.gdoc'\n",
            " CWTS\n",
            "'DANAC_1_Pendular behavior of public transport networks.pdf'\n",
            "'DANAC_1_Rumor Propagation is Amplified by Echo Chambers in Social Media.pdf'\n",
            "'DANAC_2_Pendular behavior of public transport networks.pdf'\n",
            "'DANAC_2_Rumor Propagation is Amplified by.pdf'\n",
            "'DANAC - 2x2.png'\n",
            "'DANAC_3_Revealing time’s secrets at the National Theatre of Costa Rica via innovative software for cultural heritage research (1).pdf'\n",
            "'DANAC_3_Revealing time’s secrets at the National Theatre of Costa Rica via innovative software for cultural heritage research.pdf'\n",
            " DANAC_AIS.pdf\n",
            "'DANAC - Class Tournament Game Analyses.gdoc'\n",
            "'DANAC - CRS (1).pdf'\n",
            "'DANAC - CRS - AY 2021-2022.png'\n",
            "'DANAC - CRS.pdf'\n",
            "'DANAC - CV.pdf'\n",
            " DANAC_EXERCISE_04192023.pdf\n",
            "'Danac-Form5 (1).pdf'\n",
            " danac_form5_20222023.pdf\n",
            " danac_form5.pdf\n",
            " Danac-Form5.pdf\n",
            "'DANAC - Form5.pdf'\n",
            "'DANAC - IPL Letter of Intent.pdf'\n",
            "'DANAC-IPL Publications Summary Report.pdf'\n",
            "'DANAC, Nathan Gabriel - FORM5 AY2023-2024 2ND SEM.pdf'\n",
            " Danac_NathanGabriel_LanyardPayment_1.png\n",
            "'DANAC, Nathan Gabriel - Member.pdf'\n",
            " DANAC_NB2.pdf\n",
            " Danac-ORCR1.pdf\n",
            " Danac-Payment.pdf\n",
            "'DANAC - PE 2 WF - Journal.pdf'\n",
            " DANAC_Presentation.pdf\n",
            " DANAC_PS2.pdf\n",
            " DANAC_PS3.pdf\n",
            "'E4 181.gsheet'\n",
            "'FORM5_2021-12517-1st Sem 22-23.pdf'\n",
            "'FORM5_2021-12517-1st Sem 23-24.pdf'\n",
            "'FORM5_2021-12517-2nd Sem 22-23.pdf'\n",
            "'FORM5_2021-12517-2nd Sem 23-24 (1).pdf'\n",
            "'FORM5_2021-12517-2nd Sem 23-24 (2).pdf'\n",
            "'FORM5_2021-12517-2nd Sem 23-24.pdf'\n",
            "'FR PPT Skeleton.gdoc'\n",
            "'Ground Effect_Experiment (1).pdf'\n",
            "'Ground Effect_Experiment.pdf'\n",
            "'Ground Effect-Programming-Challenge (1).pdf'\n",
            "'Ground Effect-Programming-Challenge.pdf'\n",
            "'Ground Effect-Programming-Easy (1).pdf'\n",
            "'Ground Effect-Programming-Easy (2).pdf'\n",
            "'Ground Effect-Programming-Easy.pdf'\n",
            " IMG_3433.jpeg\n",
            " IMG_4440.jpeg\n",
            "'IMG_4515 (1).jpeg'\n",
            " IMG_4515.jpeg\n",
            " IMG_4969.JPG\n",
            " IMG_5005.jpeg\n",
            " IMG_5016.jpeg\n",
            " IMG_5133.jpeg\n",
            " IMG_5134.jpeg\n",
            "'Meeting Reports'\n",
            " notebook1.pdf\n",
            "'PE 2 CP'\n",
            " PHYS191\n",
            "'pset1 (1).pdf'\n",
            " pset1.pdf\n",
            " SantaFe_CR.pdf\n",
            " SantaFe_OR.pdf\n",
            " Stereo\n",
            " t1.png\n",
            "'UPPA Buddy Form 23B.gform'\n",
            "'[UPPA] Danac, Nathan Gabriel-Form5.pdf'\n",
            "'VIP Groceries.gsheet'\n"
          ]
        }
      ]
    },
    {
      "cell_type": "markdown",
      "metadata": {
        "id": "XPLuh_jWfju8"
      },
      "source": [
        "Define the directory path to the location of the file, i.e. if it is in a\n",
        "folder named \"AP157\" under My Drive, then the file path will be \"/content/drive/My Drive/AP157\". Change the string variable in the code cell below, as needed:"
      ]
    },
    {
      "cell_type": "code",
      "metadata": {
        "id": "jRpIuwdigDg5"
      },
      "source": [
        "file_path = \"/content/drive/My Drive/AP157/\""
      ],
      "execution_count": 3,
      "outputs": []
    },
    {
      "cell_type": "markdown",
      "metadata": {
        "id": "VW7RFRGaik-6"
      },
      "source": [
        "Now, we can load the file using $\\tt numpy$'s $\\tt load$ function below.\n",
        "\n",
        "\n",
        "\n"
      ]
    },
    {
      "cell_type": "code",
      "metadata": {
        "id": "y61tYmPIimUv"
      },
      "source": [
        "import numpy as np\n",
        "\n",
        "data = np.load(file_path + 'galaxy_catalogue.npy')"
      ],
      "execution_count": 4,
      "outputs": []
    },
    {
      "cell_type": "markdown",
      "metadata": {
        "id": "HpXP16UfWHQK"
      },
      "source": [
        "Print out the first couple of rows. Note that the columns are: $u-g$, $g-r$, $r-i$, $i-z$, eccentricity, $m_u$, $m_g$, $m_r$, $m_i$, $m_z$, $R_{50,u}$, $R_{50,r}$, $R_{50,z}$, $R_{90,u}$, $R_{90,r}$, $R_{90,z}$, and class."
      ]
    },
    {
      "cell_type": "code",
      "metadata": {
        "id": "HbQiDjyIWsjr",
        "colab": {
          "base_uri": "https://localhost:8080/"
        },
        "outputId": "dcc12f03-96b1-4de8-e911-35048de3eac0"
      },
      "source": [
        "data[:2]"
      ],
      "execution_count": 5,
      "outputs": [
        {
          "output_type": "execute_result",
          "data": {
            "text/plain": [
              "array([(1.85765, 0.67158, 0.4231 , 0.3061 , 0.5854284, 2.251946, 2.339849, 2.380652, 2.359738, 2.395528, 3.095123, 3.818919, 3.82623 , 5.174814, 8.263009, 11.47734 , 'merger'),\n",
              "       (1.74259, 0.86085, 0.44927, 0.28851, 0.7498125, 2.031566, 2.084156, 2.092272, 2.124075, 2.133154, 1.430436, 1.422533, 1.385727, 3.732712, 3.416921,  3.330347, 'merger')],\n",
              "      dtype=[('u-g', '<f8'), ('g-r', '<f8'), ('r-i', '<f8'), ('i-z', '<f8'), ('ecc', '<f8'), ('m4_u', '<f8'), ('m4_g', '<f8'), ('m4_r', '<f8'), ('m4_i', '<f8'), ('m4_z', '<f8'), ('petroR50_u', '<f8'), ('petroR50_r', '<f8'), ('petroR50_z', '<f8'), ('petroR90_u', '<f8'), ('petroR90_r', '<f8'), ('petroR90_z', '<f8'), ('class', '<U20')])"
            ]
          },
          "metadata": {},
          "execution_count": 5
        }
      ]
    },
    {
      "cell_type": "markdown",
      "metadata": {
        "id": "_eq2V7xzFtq7"
      },
      "source": [
        "#### PART 1 - Get features and targets *(20 pts.)*\n",
        "\n",
        "Write a function ```get_features_targets``` that splits the dataset into input features and their corresponding targets. In our case, the inputs are the 4 galaxy colors ($u-g$, $g-r$, $r-i$, and $i-z$), eccentricity, $ugriz$ magnitudes, and concentrations $R_{50}/R_{90}$ in the $u$, $r$, and $z$ bands. The targets are the classes.\n",
        "\n",
        "Here's an example of how your function should work:\n",
        "```\n",
        ">>> features, targets = get_features_targets(data)\n",
        ">>> print(\"Features shape:\", features.shape\n",
        ">>> print(\"Targets shape:\", targets.shape)\n",
        "Features shape: (780, 13)\n",
        "Targets shape: (780,)\n",
        "```"
      ]
    },
    {
      "cell_type": "code",
      "metadata": {
        "id": "mfMtufdukBnu",
        "colab": {
          "base_uri": "https://localhost:8080/"
        },
        "outputId": "5368432d-c743-4b94-dabf-61ddac771b1c"
      },
      "source": [
        "#Import the necessary libraries\n",
        "import pandas as pd\n",
        "\n",
        "#Create a DataFrame from the data set, which we convert into a numpy array. This workaround was added because loading the data directly into a numpy array provided an array, but some components were tuples, which prevented me from extracting features easily.\n",
        "df = pd.DataFrame(data).to_numpy()\n",
        "\n",
        "#Write a function to split the data into features and their corresponding targets\n",
        "def get_features_targets(dat):\n",
        "  #Split each column into a 1D array by transposing. Each column represents a feature, except for the last column, which represents the classes.\n",
        "  ug, gr, ri, iz, ecc, m4u, m4g, m4r, m4i, m4z, pR50u, pR50r, pR50z, pR90u, pR90r, pR90z, c = dat.T\n",
        "  #Create our desired array of features by transposing each array. For the u, r, and z bands, the ratios of different concentrations are taken as features.\n",
        "  f = np.array([ug, gr, ri, iz, ecc, m4u, m4g, m4r, m4i, m4z, (pR50u/pR90u), (pR50r/pR90r), (pR50z/pR90z)]).T\n",
        "\n",
        "  #Return the array of features, as well as the classes\n",
        "  return f, c\n",
        "\n",
        "features, targets = get_features_targets(df)\n",
        "print(features.shape)\n",
        "print(targets.shape)"
      ],
      "execution_count": 6,
      "outputs": [
        {
          "output_type": "stream",
          "name": "stdout",
          "text": [
            "(780, 13)\n",
            "(780,)\n"
          ]
        }
      ]
    },
    {
      "cell_type": "markdown",
      "metadata": {
        "id": "vnePPYpJNWoY"
      },
      "source": [
        "#### PART 2 - Train and run a decision tree model *(40 pts.)*\n",
        "\n",
        "Write a function ```predict_class``` that will train and validate a model that predicts a galaxy's class from its photometric properties. In particular, it should do the following:\n",
        "1. Split the dataset into a training and test dataset using an 80:20 split.\n",
        "2. Train the input model using the training dataset features and targets.\n",
        "3. Return two arrays-- the predicted and actual class of the test galaxies.\n",
        "\n",
        "Here's an example of how your function should work:\n",
        "```\n",
        "import numpy as np\n",
        "from sklearn.tree import DecisionTreeClassifier\n",
        "\n",
        "data = np.load(file_path + 'galaxy_catalogue.npy')\n",
        "predicted_class, actual_class = predict_class(data)\n",
        "\n",
        "for i in np.arange(3):\n",
        "   print(\"%d, %s, %s\" & (i, predicted_class[i], actual_class[i]))\n",
        "```"
      ]
    },
    {
      "cell_type": "code",
      "metadata": {
        "id": "ydeUh_Tzvf0n"
      },
      "source": [
        "#Import the necessary libraries\n",
        "import numpy as np\n",
        "from sklearn.model_selection import train_test_split\n",
        "from sklearn.tree import DecisionTreeClassifier\n",
        "\n",
        "#Define a function to predict classes using a decision tree classifier\n",
        "def predict_class(dat):\n",
        "  #Obtain the features and the actual classes from our data set\n",
        "  f, t = get_features_targets(dat)\n",
        "\n",
        "  #Split the data set into 20% testing and 80% training\n",
        "  f_train, f_test, t_train, t_test = train_test_split(f, t, test_size=0.2, train_size=0.8, random_state=99)\n",
        "  #Create a decision tree classifier (DCF) from our training data set\n",
        "  dcf = DecisionTreeClassifier(random_state=67).fit(f_train, t_train)\n",
        "\n",
        "  #Use our DCF to predict the classes for our test data set\n",
        "  guess = dcf.predict(f_test)\n",
        "\n",
        "  #Return the predicted classes along with their actual classes\n",
        "  return  guess, t_test"
      ],
      "execution_count": 7,
      "outputs": []
    },
    {
      "cell_type": "code",
      "source": [
        "#Run the DCF for our data set\n",
        "predicted_class, actual_class = predict_class(df)\n",
        "\n",
        "#Compare the predicted and actual classes of each galaxy\n",
        "for i in np.arange(50):\n",
        "   print(\"%d, %s, %s\" % (i, predicted_class[i], actual_class[i]))"
      ],
      "metadata": {
        "id": "Ug6VWlLeSroG",
        "colab": {
          "base_uri": "https://localhost:8080/"
        },
        "outputId": "2a628e33-6896-4dbb-fcbd-c59b04bf234b"
      },
      "execution_count": 8,
      "outputs": [
        {
          "output_type": "stream",
          "name": "stdout",
          "text": [
            "0, spiral, merger\n",
            "1, elliptical, elliptical\n",
            "2, spiral, spiral\n",
            "3, elliptical, elliptical\n",
            "4, spiral, spiral\n",
            "5, spiral, spiral\n",
            "6, merger, spiral\n",
            "7, merger, merger\n",
            "8, merger, spiral\n",
            "9, elliptical, elliptical\n",
            "10, elliptical, elliptical\n",
            "11, merger, merger\n",
            "12, elliptical, elliptical\n",
            "13, merger, merger\n",
            "14, merger, merger\n",
            "15, elliptical, elliptical\n",
            "16, spiral, elliptical\n",
            "17, merger, merger\n",
            "18, merger, spiral\n",
            "19, spiral, spiral\n",
            "20, spiral, merger\n",
            "21, spiral, spiral\n",
            "22, merger, merger\n",
            "23, spiral, spiral\n",
            "24, elliptical, elliptical\n",
            "25, spiral, spiral\n",
            "26, spiral, spiral\n",
            "27, spiral, spiral\n",
            "28, spiral, merger\n",
            "29, elliptical, elliptical\n",
            "30, spiral, spiral\n",
            "31, elliptical, elliptical\n",
            "32, elliptical, merger\n",
            "33, merger, merger\n",
            "34, merger, merger\n",
            "35, spiral, spiral\n",
            "36, merger, merger\n",
            "37, elliptical, elliptical\n",
            "38, merger, merger\n",
            "39, spiral, merger\n",
            "40, merger, merger\n",
            "41, spiral, merger\n",
            "42, spiral, spiral\n",
            "43, merger, merger\n",
            "44, merger, merger\n",
            "45, spiral, spiral\n",
            "46, merger, merger\n",
            "47, merger, merger\n",
            "48, elliptical, spiral\n",
            "49, merger, spiral\n"
          ]
        }
      ]
    },
    {
      "cell_type": "markdown",
      "metadata": {
        "id": "hlSp5k92OjuM"
      },
      "source": [
        "#### PART 3 - Confusion matrix and accuracy *(40 pts.)*\n",
        "\n",
        "1. Get the confusion matrix for your test dataset-- this is a 3 x 3 matrix with the counts for each combination of actual and predicted class. *(25 pts.)*\n",
        "\n",
        "2. Get the test accuracy of your decision tree classifer, defined as the number of correct predictions divided by the total number of predictions. *(15 pts.)*"
      ]
    },
    {
      "cell_type": "code",
      "metadata": {
        "id": "OZXvnOSLdH_k",
        "colab": {
          "base_uri": "https://localhost:8080/",
          "height": 472
        },
        "outputId": "d1b5508e-4ef0-4449-b2b8-36ca03371357"
      },
      "source": [
        "#Import the necessary libraries\n",
        "from sklearn.metrics import confusion_matrix, ConfusionMatrixDisplay\n",
        "import matplotlib.pyplot as plt\n",
        "\n",
        "#Enumerate the classes\n",
        "classes = [\"elliptical\", \"merger\", \"spiral\"]\n",
        "\n",
        "#Create a confuson matrix from the results of our DCF\n",
        "cm = confusion_matrix(actual_class, predicted_class)\n",
        "\n",
        "#Visualizing the confusion matrix\n",
        "map = ConfusionMatrixDisplay(cm, display_labels=classes)\n",
        "map.plot(cmap=\"cividis\")\n",
        "#Formatting\n",
        "plt.title(\"Confusion matrix for the SDSS galaxy data\")\n",
        "#Displaying\n",
        "plt.show()"
      ],
      "execution_count": 9,
      "outputs": [
        {
          "output_type": "display_data",
          "data": {
            "text/plain": [
              "<Figure size 640x480 with 2 Axes>"
            ],
            "image/png": "[encoded data removed]"
          },
          "metadata": {}
        }
      ]
    },
    {
      "cell_type": "markdown",
      "source": [
        "From the above confusion matrix, we can see that the decision tree classifier does a good job at categorizing galaxies based on their features. Especially for elliptical galaxies, there are very few false positives. On the other hand, while it was still able to correctly distinguish the majority of merger and spiral galaxies, there is still a significant number of misclassifications for both."
      ],
      "metadata": {
        "id": "xD4FthnijxcK"
      }
    },
    {
      "cell_type": "code",
      "source": [
        "#Create an array to store the test accuracy for each class\n",
        "acc = np.empty(3)\n",
        "\n",
        "for i in range(3):\n",
        "  #The number of true positives is represented by the diagonal\n",
        "  #The total number of positives simply is the total sum of each column\n",
        "  acc[i] = cm[i][i]/np.sum(cm[:, i])\n",
        "\n",
        "#Plotting as a bar graph\n",
        "b = plt.barh(classes, acc, height=0.6, color=\"mediumseagreen\")\n",
        "plt.bar_label(b)\n",
        "#Formatting\n",
        "plt.xlim(0, 1)\n",
        "plt.title(\"Test accuracy for the decision tree classifier\")\n",
        "#Displaying\n",
        "plt.show()"
      ],
      "metadata": {
        "colab": {
          "base_uri": "https://localhost:8080/",
          "height": 452
        },
        "id": "ilJ2oZ2qgSJj",
        "outputId": "1f2e1c7f-5537-4ad2-c1fe-7291d38decae"
      },
      "execution_count": 10,
      "outputs": [
        {
          "output_type": "display_data",
          "data": {
            "text/plain": [
              "<Figure size 640x480 with 1 Axes>"
            ],
            "image/png": "[encoded data removed]"
          },
          "metadata": {}
        }
      ]
    },
    {
      "cell_type": "markdown",
      "source": [
        "The test accuracy of the decision tree classifier is as follows:\n",
        "\n",
        "\n",
        "*   $70.00$% for spiral galaxies\n",
        "*   $68.75$% for mergers\n",
        "*   $93.75$% for elliptical galaxies\n",
        "\n",
        "It is interesting to note that the decision tree classifier struggles distinguishing spiral galaxies and mergers. Physically, these two different types of galaxies share similar features. Both have spiral arms and a central bulge. In addition, both galaxies tend to be dusty due to the formation of new stars.\n",
        "\n",
        "On the other hand, elliptical galaxies do not have spiral arms. They have also undergone most of their star formation already, and thus, tend to be less dusty. Moreover, their morphology is relatively simple, hence their name.\n",
        "\n",
        "Thankfully, there are key differences between these types of galaxies, such as the presence of tidal tails and ongoing starburst activity in mergers, which are typically absent in elliptical galaxies. However, these features may be difficult to extract from image data. Hence, they are difficult to consider in our data set.\n",
        "\n",
        "\n",
        "\n",
        "\n",
        "\n",
        "# Reference\n",
        "[Galaxy Details and Mergers](https://science.nasa.gov/mission/hubble/science/science-highlights/galaxy-details-and-mergers/)\n"
      ],
      "metadata": {
        "id": "dxVmF5q8k3rh"
      }
    }
  ]
}