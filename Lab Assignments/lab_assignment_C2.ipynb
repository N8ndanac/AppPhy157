{
  "nbformat": 4,
  "nbformat_minor": 0,
  "metadata": {
    "colab": {
      "provenance": []
    },
    "kernelspec": {
      "name": "python3",
      "display_name": "Python 3"
    },
    "language_info": {
      "name": "python"
    }
  },
  "cells": [
    {
      "cell_type": "markdown",
      "source": [
        "# **AP157 Module C Lab Assignment**\n",
        "\n",
        "## Module C2: Monte Carlo Methods\n",
        "\n",
        "_Instructions_: Answer each part of the assignment as completely as you can. Discuss **all** your code and results as clearly and concisely as possible.\n",
        "\n",
        "_Scoring Criteria_: 50% - *correctness of code*; 50% - *discussion of the code and results*. Maximum score is **100 points**.\n",
        "\n",
        "_Credits_: This lab assignment is based on work by Dr. Reyes in collaboration with Gene Belinario and Dr. Reginald Bernardo.\n",
        "\n",
        "_Additional Reference_: MCMC Tutorial - https://prappleizer.github.io/Tutorials/MCMC/MCMC_Tutorial_Solution.html"
      ],
      "metadata": {
        "id": "8u3wdhYhX6GF"
      }
    },
    {
      "cell_type": "markdown",
      "source": [
        "### Student Information\n",
        "\n",
        "_Full Name (Last Name, First Name)_: \\ Danac, Nathan Gabriel\n",
        "_Student No._:\\ 2021-12517\n",
        "_Section_: TX-2"
      ],
      "metadata": {
        "id": "x6QU0eeNYseY"
      }
    },
    {
      "cell_type": "markdown",
      "source": [
        "### Submission Information\n",
        "\n",
        "_Date and Time Submitted (most recent upload)_:\n",
        "\n",
        "**HONOR PLEDGE** I affirm that I have upheld the highest principles of honesty and integrity in my academic work and that this lab assignment is my own work.\n",
        "\n",
        "**Sign here with your full name:**"
      ],
      "metadata": {
        "id": "GzwlHlFwYtbv"
      }
    },
    {
      "cell_type": "markdown",
      "source": [
        "### Grading Information (c/o Instructor)\n",
        "\n",
        "TOTAL SCORE: **[]**/100\n",
        "\n",
        "Score breakdown:\n",
        "* Part 1 - []/20\n",
        "* Part 2 - []/20\n",
        "* Part 3 - []/30\n",
        "* Part 4 - []/30\n",
        "\n",
        "_Date and Time Scored (MM/DD/YYYY HH:MM AM/PM):_"
      ],
      "metadata": {
        "id": "1as4IpTFYxfx"
      }
    },
    {
      "cell_type": "markdown",
      "source": [
        "In this lab assignment, you will generate constraints on cosmological parameters, the Hubble parameter H_0 and matter density Omega_m,0, from (synthetic) Hubble diagram data points from gravitational-wave (GW) sirens observed from 3 GW observatories: LIGO, LISA, and Einstein Telescope (ET).\n",
        "\n",
        "The datasets are in the Google Drive \"Datasets\" Folder under \"AP157_moduleC2\" subfolder: https://drive.google.com/drive/folders/1UnK1AggxdsjtG3PoOcyXfpahBcWjOBzj?usp=drive_link.\n",
        "\n",
        "Read in the 3 datasets from the CSV files: LIGO.csv, LISA.csv, ET.csv. The columns are redshift (z), luminosity distance (dL), and error in the luminosity distance (err). The distances are in units of Gpc (giga-parsecs).\n",
        "\n",
        "Load the data into variable names: zLIGO, dLLIGO, errLIGO, zLISA, dLLISA, errLISA, and zET, dLET, and errET, respectively. Note that these variable names will be used in later parts of the code, so you have to use these names for compatibility."
      ],
      "metadata": {
        "id": "PB0N2FuuY3RU"
      }
    },
    {
      "cell_type": "code",
      "source": [
        "from google.colab import drive\n",
        "drive.mount(\"/content/drive\")\n",
        "\n",
        "file_path = \"/content/drive/My Drive/AP157/\""
      ],
      "metadata": {
        "id": "wWNT09i67_zg",
        "colab": {
          "base_uri": "https://localhost:8080/"
        },
        "outputId": "0760b10e-a13f-4a48-fd6f-388a62c5835f"
      },
      "execution_count": null,
      "outputs": [
        {
          "output_type": "stream",
          "name": "stdout",
          "text": [
            "Mounted at /content/drive\n"
          ]
        }
      ]
    },
    {
      "cell_type": "code",
      "source": [
        "import pandas as pd\n",
        "import numpy as np\n",
        "import matplotlib.pyplot as plt"
      ],
      "metadata": {
        "id": "byn-6djnxGwh"
      },
      "execution_count": null,
      "outputs": []
    },
    {
      "cell_type": "code",
      "source": [
        "def import_data(name):\n",
        "  df = pd.read_csv(file_path + name + \".csv\")\n",
        "  z = df[\"z\" + name]\n",
        "  dL = df[\"dl\" + name]\n",
        "  err = df[\"err\" + name]\n",
        "\n",
        "  return z, dL, err"
      ],
      "metadata": {
        "id": "gsaN3qBExMzx"
      },
      "execution_count": null,
      "outputs": []
    },
    {
      "cell_type": "code",
      "source": [
        "zLIGO, dLLIGO, errLIGO = import_data(\"LIGO\")\n",
        "zLISA, dLLISA, errLISA = import_data(\"LISA\")\n",
        "zET, dLET, errET = import_data(\"ET\")"
      ],
      "metadata": {
        "id": "eXnG13cmx1zu"
      },
      "execution_count": null,
      "outputs": []
    },
    {
      "cell_type": "markdown",
      "source": [
        "By the end of the lab assignment, you will generate constraints on the cosmological parameters H_0 and omega_m,0 for 3 samples: LIGO only, LIGO+LISA, and LIGO+LISA+ET (combined). You will generate a corner plot to visualize these constraints similar to the figure here: https://drive.google.com/file/d/18H7GPlox4ijS9qFbk1rHo-NW5N_Nsfer/view?usp=drive_link"
      ],
      "metadata": {
        "id": "Xz28sa5B9mpx"
      }
    },
    {
      "cell_type": "markdown",
      "source": [
        "#### PART 1 - Generate Hubble Diagram *(20 points)*\n",
        "\n",
        "Make a Hubble diagram plot-- with luminosity distance (d_L) in the vertical axis and redshift (z) in the horizontal axis. Show the errors in d_L as error bars.\n",
        "\n",
        "Plot GW sirens from the 3 observatories in the same plot and include a legend. Briefly describe the difference between the samples from the 3 observatories."
      ],
      "metadata": {
        "id": "SqkP0l40aKHj"
      }
    },
    {
      "cell_type": "code",
      "source": [
        "plt.errorbar(zLIGO, dLLIGO, yerr=errLIGO, fmt=\"o\", color=\"firebrick\", alpha=0.5, capsize=3, label=\"LIGO\")\n",
        "plt.errorbar(zLISA, dLLISA, yerr=errLISA, fmt=\"o\", color=\"darkgoldenrod\", alpha=0.5, capsize=3, label=\"LISA\")\n",
        "plt.errorbar(zET, dLET, yerr=errET, fmt=\"o\", color=\"mediumseagreen\", alpha=0.5, capsize=3, label=\"ET\")\n",
        "\n",
        "plt.legend()\n",
        "plt.xlabel(\"Redshift\")\n",
        "plt.ylabel(\"Luminosity distance\")"
      ],
      "metadata": {
        "id": "drqNxmsAayWH",
        "colab": {
          "base_uri": "https://localhost:8080/",
          "height": 466
        },
        "outputId": "0799658c-0b64-4c62-f07d-fe7377a99a6b"
      },
      "execution_count": null,
      "outputs": [
        {
          "output_type": "execute_result",
          "data": {
            "text/plain": [
              "Text(0, 0.5, 'Luminosity distance')"
            ]
          },
          "metadata": {},
          "execution_count": 13
        },
        {
          "output_type": "display_data",
          "data": {
            "text/plain": [
              "<Figure size 640x480 with 1 Axes>"
            ],
            "image/png": "[encoded data removed]"
          },
          "metadata": {}
        }
      ]
    },
    {
      "cell_type": "markdown",
      "source": [
        "#### PART 2 - Define likelihood functions *(20 points)*\n",
        "\n",
        "In this analysis, we will assume the cosmological model to be flat LambdaCDM universe. This is given by the `FlatLambdaCDM' model from the astropy.cosmology package. In particular, we use the model for the luminosity distance as a function of redshift, which is encoded in the luminosity_distance function.\n",
        "\n",
        "Below, define the chi-square and likelihood function to be used for the LIGO only and the LIGO+LISA dataset. You are asked to define the analogous functions for the LIGO+LISA+ET dataset. Note that the likelihood for the combined dataset is simply the sum of the likelihoods for the individual datasets.\n",
        "\n",
        "\n"
      ],
      "metadata": {
        "id": "CPkkgWSqazmJ"
      }
    },
    {
      "cell_type": "code",
      "source": [
        "from astropy.cosmology import FlatLambdaCDM"
      ],
      "metadata": {
        "id": "d40B1twMbw9Y"
      },
      "execution_count": null,
      "outputs": []
    },
    {
      "cell_type": "code",
      "source": [
        "def chi2LIGO_lcdm(H0, Om0):\n",
        "    cosmo = FlatLambdaCDM(H0=H0, Om0=Om0, Tcmb0=2.725)      # define cosmological model\n",
        "    model = np.array(cosmo.luminosity_distance(zLIGO)/1000) # converted from Gpc to Mpc units\n",
        "    dev = (model - np.array(dlLIGO))/np.array(errLIGO)      # deviations between model and data\n",
        "    chi2 = sum(dev**2)\n",
        "    return chi2\n",
        "\n",
        "def llikeLIGO_lcdm(H0, Om0):\n",
        "    if (H0 < 0) or (Om0 < 0):\n",
        "        return -np.inf                        # return inf if outside priors\n",
        "    else:\n",
        "        return -0.5*chi2LIGO_lcdm(H0, Om0)\n",
        "\n",
        "# LIGO + LISA\n",
        "def chi2LISA_lcdm(H0, Om0):\n",
        "    cosmo = FlatLambdaCDM(H0=H0, Om0=Om0, Tcmb0=2.725)\n",
        "    model = np.array(cosmo.luminosity_distance(zLISA)/1000)\n",
        "    dev = (model - np.array(dlLISA))/np.array(errLISA)\n",
        "    chi2 = sum(dev**2)\n",
        "    return chi2\n",
        "\n",
        "def llikeLIGOLISA_lcdm(H0, Om0):\n",
        "    if (H0 < 0) or (Om0 < 0):\n",
        "        return -np.inf\n",
        "    else:\n",
        "        return -0.5*(chi2LIGO_lcdm(H0, Om0) + chi2LISA_lcdm(H0, Om0))\n",
        "\n",
        "# LIGO + LISA + ET\n",
        "def chi2ET_lcdm(H0, Om0):\n",
        "    cosmo = FlatLambdaCDM(H0=H0, Om0=Om0, Tcmb0=2.725)\n",
        "    model = np.array(cosmo.luminosity_distance(zET)/1000)\n",
        "    dev = (model - np.array(dlET))/np.array(errET)\n",
        "    chi2 = sum(dev**2)\n",
        "    return chi2\n",
        "\n",
        "def llikeLIGOLISAET_lcdm(H0, Om0):\n",
        "    if (H0 < 0) or (Om0 < 0):\n",
        "        return -np.inf\n",
        "    else:\n",
        "        return -0.5*(chi2LIGO_lcdm(H0, Om0) + chi2LISA_lcdm(H0, Om0) + chi2ET_lcdm(H0, Om0))"
      ],
      "metadata": {
        "id": "lIFbFSTNbd9V"
      },
      "execution_count": null,
      "outputs": []
    },
    {
      "cell_type": "markdown",
      "source": [
        "#### PART 3 - Perform MCMC runs *(30 points)*\n",
        "\n",
        "Use the emcee library to set up and perform MCMC runs for the 3 samples: LIGO only, LIGO+LISA, and LIGO+LISA+ET combined.\n",
        "\n",
        "You can try the ff. parameters-- number of walkers (nwalkers) of 100 and number of iterations (niter) of 1,000 and number of burn-in samples (nburn) of 100.\n",
        "\n",
        "Note that the number of dimensions (ndim) is the number of parameters, equal to 2.\n",
        "\n",
        "For the methodology of stepping from one place of the grid to another, you can use:\n",
        "\n",
        "    dres = [0.1, 0.003] # step size for H_0 and omega_m,0, respectively\n",
        "    initial = np.array([70., 0.3])\n",
        "    p0 = [initial + dres * np.random.randn(ndim) for i in range(nwalkers)]\n",
        "\n",
        "For the 'lnprob' function equivalent, you can define (for example):\n",
        "\n",
        "    def lnprob(x):\n",
        "      '''params: H0, Om0 = x0, x1'''\n",
        "      return llikeLIGOLISA_lcdm(x[0], x[1])\n",
        "\n",
        "Also note that because in our definition of likelihood functions, the data is ``hard-coded'', you do not need to use the \"args\" keyword in the emcee.EnsembleSampler command."
      ],
      "metadata": {
        "id": "qz6HLhQE8UAh"
      }
    },
    {
      "cell_type": "code",
      "source": [
        "!pip install emcee\n",
        "\n",
        "import emcee\n",
        "from scipy.optimize import minimize\n",
        "import time\n",
        "import multiprocess\n",
        "from multiprocess import Pool"
      ],
      "metadata": {
        "colab": {
          "base_uri": "https://localhost:8080/"
        },
        "id": "iVkk67iu_4At",
        "outputId": "3aca41f4-3717-4cb0-cbee-7044f32b0941"
      },
      "execution_count": null,
      "outputs": [
        {
          "output_type": "stream",
          "name": "stdout",
          "text": [
            "Collecting emcee\n",
            "  Downloading emcee-3.1.6-py2.py3-none-any.whl (47 kB)\n",
            "\u001b[2K     \u001b[90m━━━━━━━━━━━━━━━━━━━━━━━━━━━━━━━━━━━━━━━━\u001b[0m \u001b[32m47.4/47.4 kB\u001b[0m \u001b[31m434.9 kB/s\u001b[0m eta \u001b[36m0:00:00\u001b[0m\n",
            "\u001b[?25hRequirement already satisfied: numpy in /usr/local/lib/python3.10/dist-packages (from emcee) (1.25.2)\n",
            "Installing collected packages: emcee\n",
            "Successfully installed emcee-3.1.6\n"
          ]
        }
      ]
    },
    {
      "cell_type": "code",
      "source": [
        "nwalkers = 100\n",
        "niter = 1000\n",
        "nburn = 100\n",
        "ndim = 2\n",
        "\n",
        "dres = [0.1, 0.003]\n",
        "initial = np.array([70., 0.3])\n",
        "p0 = [initial + dres * np.random.randn(ndim) for i in range(nwalkers)]"
      ],
      "metadata": {
        "id": "iGseIx73b9zd"
      },
      "execution_count": null,
      "outputs": []
    },
    {
      "cell_type": "markdown",
      "source": [
        "#### PART 4 - Generate corner plot to visualize the constraints *(30 points)*\n",
        "\n",
        "Overlay the results for the 3 samples for easy comparison. Your plot should resemble the figure here: https://drive.google.com/file/d/18H7GPlox4ijS9qFbk1rHo-NW5N_Nsfer/view?usp=drive_link\n",
        "\n",
        "Briefly describe the difference between the constraints obtained from the different samples."
      ],
      "metadata": {
        "id": "WAjESvPb8q3X"
      }
    },
    {
      "cell_type": "code",
      "source": [],
      "metadata": {
        "id": "4_ITeJOM8uww"
      },
      "execution_count": null,
      "outputs": []
    }
  ]
}