{
  "nbformat": 4,
  "nbformat_minor": 0,
  "metadata": {
    "colab": {
      "provenance": []
    },
    "kernelspec": {
      "name": "python3",
      "display_name": "Python 3"
    }
  },
  "cells": [
    {
      "cell_type": "markdown",
      "metadata": {
        "id": "ZKIV71UGXXER"
      },
      "source": [
        "# **AP157 Machine Learning Lab Assignment**\n",
        "## Module A.3: Dimensionality Reduction -- Principal Component Analysis of SDSS Galaxy Spectra\n",
        "\n",
        "_Instructions_: Answer each part of the assignment as completely as you can. Discuss **all** your code and results as clearly and concisely as possible.\n",
        "\n",
        "_Scoring Criteria_: 50% - *correctness of code*; 50% - *discussion of the code and results*. Maximum score is **100 points** (Parts 1 and 2 are worth 25 and 75 points, respectively).\n",
        "\n",
        "_Credits_: This assignment is based on the scikit-learn tutorial \"Dimensionality Reduction of Astronomical Spectra\" ([link](https://ogrisel.github.io/scikit-learn.org/sklearn-tutorial/tutorial/astronomy/dimensionality_reduction.html))"
      ]
    },
    {
      "cell_type": "markdown",
      "metadata": {
        "id": "Qe-e_Ss-X6ft"
      },
      "source": [
        "### Student Information\n",
        "\n",
        "_Full Name (Last Name, First Name)_: \\ DANAC, Nathan Gabriel C.\n",
        "_Student No._:\\ 2021 - 12517\n",
        "_Section_:"
      ]
    },
    {
      "cell_type": "markdown",
      "metadata": {
        "id": "G_XF-07PX93d"
      },
      "source": [
        "### Submission Information\n",
        "\n",
        "_Date and Time Submitted (most recent upload)_:\n",
        "\n",
        "**HONOR PLEDGE** I affirm that I have upheld the highest principles of honesty and integrity in my academic work and that this lab assignment is my own work.\n",
        "\n",
        "**Sign here with your full name:**"
      ]
    },
    {
      "cell_type": "markdown",
      "metadata": {
        "id": "OwgP-Q1MYEdY"
      },
      "source": [
        "### Grading Information (c/o Instructor)\n",
        "\n",
        "TOTAL SCORE: **[]**/100\n",
        "\n",
        "Score breakdown:\n",
        "* Part 1 - []/25\n",
        "* Part 2 - []/75\n",
        "\n",
        "_Date and Time Scored (MM/DD/YYYY HH:MM AM/PM):_"
      ]
    },
    {
      "cell_type": "markdown",
      "metadata": {
        "id": "sV3B11uljlrZ"
      },
      "source": [
        "For this assignment, you will work with galaxy spectra data from the\n",
        "Sloan Digital Sky Survey (SDSS). First, you need to make a copy of the file ```spec4000_use.npz``` and save it to a folder in your **own Google Drive**. This file is available from the AP157 Machine Learning Google Drive (under the Datasets folder).\n",
        "\n",
        "The code cells below will (1) mount your Google Drive and (2) load ```spec4000_corrected.npz``` from your Google Drive folder.\n",
        "\n",
        "First, mount the Google Drive where you saved the .npy file.\n",
        "\n",
        "When you run this cell, you will be asked to sign in to your Google account and you will get an authorization code. Paste the code on the provided cell to mount the Google Drive."
      ]
    },
    {
      "cell_type": "code",
      "metadata": {
        "id": "FijjkO9tjmDF",
        "colab": {
          "base_uri": "https://localhost:8080/",
          "height": 304
        },
        "outputId": "48eb0228-d96d-45ac-fd8c-31b14b7ed0a7"
      },
      "source": [
        "from google.colab import drive\n",
        "drive.mount(\"/content/drive\")"
      ],
      "execution_count": 2,
      "outputs": [
        {
          "output_type": "error",
          "ename": "MessageError",
          "evalue": "Error: credential propagation was unsuccessful",
          "traceback": [
            "\u001b[0;31m---------------------------------------------------------------------------\u001b[0m",
            "\u001b[0;31mMessageError\u001b[0m                              Traceback (most recent call last)",
            "\u001b[0;32m<ipython-input-2-bf1647b42bbd>\u001b[0m in \u001b[0;36m<cell line: 2>\u001b[0;34m()\u001b[0m\n\u001b[1;32m      1\u001b[0m \u001b[0;32mfrom\u001b[0m \u001b[0mgoogle\u001b[0m\u001b[0;34m.\u001b[0m\u001b[0mcolab\u001b[0m \u001b[0;32mimport\u001b[0m \u001b[0mdrive\u001b[0m\u001b[0;34m\u001b[0m\u001b[0;34m\u001b[0m\u001b[0m\n\u001b[0;32m----> 2\u001b[0;31m \u001b[0mdrive\u001b[0m\u001b[0;34m.\u001b[0m\u001b[0mmount\u001b[0m\u001b[0;34m(\u001b[0m\u001b[0;34m\"/content/drive\"\u001b[0m\u001b[0;34m)\u001b[0m\u001b[0;34m\u001b[0m\u001b[0;34m\u001b[0m\u001b[0m\n\u001b[0m",
            "\u001b[0;32m/usr/local/lib/python3.10/dist-packages/google/colab/drive.py\u001b[0m in \u001b[0;36mmount\u001b[0;34m(mountpoint, force_remount, timeout_ms, readonly)\u001b[0m\n\u001b[1;32m     98\u001b[0m \u001b[0;32mdef\u001b[0m \u001b[0mmount\u001b[0m\u001b[0;34m(\u001b[0m\u001b[0mmountpoint\u001b[0m\u001b[0;34m,\u001b[0m \u001b[0mforce_remount\u001b[0m\u001b[0;34m=\u001b[0m\u001b[0;32mFalse\u001b[0m\u001b[0;34m,\u001b[0m \u001b[0mtimeout_ms\u001b[0m\u001b[0;34m=\u001b[0m\u001b[0;36m120000\u001b[0m\u001b[0;34m,\u001b[0m \u001b[0mreadonly\u001b[0m\u001b[0;34m=\u001b[0m\u001b[0;32mFalse\u001b[0m\u001b[0;34m)\u001b[0m\u001b[0;34m:\u001b[0m\u001b[0;34m\u001b[0m\u001b[0;34m\u001b[0m\u001b[0m\n\u001b[1;32m     99\u001b[0m   \u001b[0;34m\"\"\"Mount your Google Drive at the specified mountpoint path.\"\"\"\u001b[0m\u001b[0;34m\u001b[0m\u001b[0;34m\u001b[0m\u001b[0m\n\u001b[0;32m--> 100\u001b[0;31m   return _mount(\n\u001b[0m\u001b[1;32m    101\u001b[0m       \u001b[0mmountpoint\u001b[0m\u001b[0;34m,\u001b[0m\u001b[0;34m\u001b[0m\u001b[0;34m\u001b[0m\u001b[0m\n\u001b[1;32m    102\u001b[0m       \u001b[0mforce_remount\u001b[0m\u001b[0;34m=\u001b[0m\u001b[0mforce_remount\u001b[0m\u001b[0;34m,\u001b[0m\u001b[0;34m\u001b[0m\u001b[0;34m\u001b[0m\u001b[0m\n",
            "\u001b[0;32m/usr/local/lib/python3.10/dist-packages/google/colab/drive.py\u001b[0m in \u001b[0;36m_mount\u001b[0;34m(mountpoint, force_remount, timeout_ms, ephemeral, readonly)\u001b[0m\n\u001b[1;32m    131\u001b[0m   )\n\u001b[1;32m    132\u001b[0m   \u001b[0;32mif\u001b[0m \u001b[0mephemeral\u001b[0m\u001b[0;34m:\u001b[0m\u001b[0;34m\u001b[0m\u001b[0;34m\u001b[0m\u001b[0m\n\u001b[0;32m--> 133\u001b[0;31m     _message.blocking_request(\n\u001b[0m\u001b[1;32m    134\u001b[0m         \u001b[0;34m'request_auth'\u001b[0m\u001b[0;34m,\u001b[0m \u001b[0mrequest\u001b[0m\u001b[0;34m=\u001b[0m\u001b[0;34m{\u001b[0m\u001b[0;34m'authType'\u001b[0m\u001b[0;34m:\u001b[0m \u001b[0;34m'dfs_ephemeral'\u001b[0m\u001b[0;34m}\u001b[0m\u001b[0;34m,\u001b[0m \u001b[0mtimeout_sec\u001b[0m\u001b[0;34m=\u001b[0m\u001b[0;32mNone\u001b[0m\u001b[0;34m\u001b[0m\u001b[0;34m\u001b[0m\u001b[0m\n\u001b[1;32m    135\u001b[0m     )\n",
            "\u001b[0;32m/usr/local/lib/python3.10/dist-packages/google/colab/_message.py\u001b[0m in \u001b[0;36mblocking_request\u001b[0;34m(request_type, request, timeout_sec, parent)\u001b[0m\n\u001b[1;32m    174\u001b[0m       \u001b[0mrequest_type\u001b[0m\u001b[0;34m,\u001b[0m \u001b[0mrequest\u001b[0m\u001b[0;34m,\u001b[0m \u001b[0mparent\u001b[0m\u001b[0;34m=\u001b[0m\u001b[0mparent\u001b[0m\u001b[0;34m,\u001b[0m \u001b[0mexpect_reply\u001b[0m\u001b[0;34m=\u001b[0m\u001b[0;32mTrue\u001b[0m\u001b[0;34m\u001b[0m\u001b[0;34m\u001b[0m\u001b[0m\n\u001b[1;32m    175\u001b[0m   )\n\u001b[0;32m--> 176\u001b[0;31m   \u001b[0;32mreturn\u001b[0m \u001b[0mread_reply_from_input\u001b[0m\u001b[0;34m(\u001b[0m\u001b[0mrequest_id\u001b[0m\u001b[0;34m,\u001b[0m \u001b[0mtimeout_sec\u001b[0m\u001b[0;34m)\u001b[0m\u001b[0;34m\u001b[0m\u001b[0;34m\u001b[0m\u001b[0m\n\u001b[0m",
            "\u001b[0;32m/usr/local/lib/python3.10/dist-packages/google/colab/_message.py\u001b[0m in \u001b[0;36mread_reply_from_input\u001b[0;34m(message_id, timeout_sec)\u001b[0m\n\u001b[1;32m    101\u001b[0m     ):\n\u001b[1;32m    102\u001b[0m       \u001b[0;32mif\u001b[0m \u001b[0;34m'error'\u001b[0m \u001b[0;32min\u001b[0m \u001b[0mreply\u001b[0m\u001b[0;34m:\u001b[0m\u001b[0;34m\u001b[0m\u001b[0;34m\u001b[0m\u001b[0m\n\u001b[0;32m--> 103\u001b[0;31m         \u001b[0;32mraise\u001b[0m \u001b[0mMessageError\u001b[0m\u001b[0;34m(\u001b[0m\u001b[0mreply\u001b[0m\u001b[0;34m[\u001b[0m\u001b[0;34m'error'\u001b[0m\u001b[0;34m]\u001b[0m\u001b[0;34m)\u001b[0m\u001b[0;34m\u001b[0m\u001b[0;34m\u001b[0m\u001b[0m\n\u001b[0m\u001b[1;32m    104\u001b[0m       \u001b[0;32mreturn\u001b[0m \u001b[0mreply\u001b[0m\u001b[0;34m.\u001b[0m\u001b[0mget\u001b[0m\u001b[0;34m(\u001b[0m\u001b[0;34m'data'\u001b[0m\u001b[0;34m,\u001b[0m \u001b[0;32mNone\u001b[0m\u001b[0;34m)\u001b[0m\u001b[0;34m\u001b[0m\u001b[0;34m\u001b[0m\u001b[0m\n\u001b[1;32m    105\u001b[0m \u001b[0;34m\u001b[0m\u001b[0m\n",
            "\u001b[0;31mMessageError\u001b[0m: Error: credential propagation was unsuccessful"
          ]
        }
      ]
    },
    {
      "cell_type": "markdown",
      "metadata": {
        "id": "qABQUn2wkFN0"
      },
      "source": [
        "Run this command to list the directories in your Google Drive and check that the mount was successful."
      ]
    },
    {
      "cell_type": "code",
      "metadata": {
        "id": "iZvNnbeKjzO0"
      },
      "source": [
        "!ls drive/My\\ Drive"
      ],
      "execution_count": null,
      "outputs": []
    },
    {
      "cell_type": "markdown",
      "metadata": {
        "id": "nQAdEVvhkMn6"
      },
      "source": [
        "Define the directory path to the location of the file, i.e. if it is in a\n",
        "folder named \"AP157\" under My Drive, then the file path will be \"/content/drive/My Drive/AP157\". Change the string variable in the code cell below, as needed:"
      ]
    },
    {
      "cell_type": "code",
      "metadata": {
        "id": "A62VgtUMkSpZ"
      },
      "source": [
        "file_path = \"/content/drive/My Drive/AP157/\""
      ],
      "execution_count": null,
      "outputs": []
    },
    {
      "cell_type": "markdown",
      "metadata": {
        "id": "cm7PRt97klTc"
      },
      "source": [
        "Now, we can load the file using $\\tt numpy$'s $\\tt load$ function below.\n"
      ]
    },
    {
      "cell_type": "code",
      "metadata": {
        "id": "6R9VTHdeac-L"
      },
      "source": [
        "import numpy as np\n",
        "data = np.load(file_path + 'spec4000_corrected.npz')"
      ],
      "execution_count": null,
      "outputs": []
    },
    {
      "cell_type": "markdown",
      "metadata": {
        "id": "N77qwUCzoIMJ"
      },
      "source": [
        "The NpzFile object is a dictionary-like object which can be queried for its list of arrays and the arrays themselves ([reference](https://numpy.org/doc/stable/reference/generated/numpy.savez.html)). Our object contains two arrays: ``spec_recons`` - 4000 reconstructed SDSS spectra each with 1000 attributes (flux in units of $10^{-17}$ erg cm$^{-2}$ s$^{-1}$ Å$^{-1}$) and ``wavelength`` - array of wavelengths (in units of Angstroms) corresponding to these attributes."
      ]
    },
    {
      "cell_type": "code",
      "metadata": {
        "id": "rHHfZ_7Snmxv"
      },
      "source": [
        "data.files"
      ],
      "execution_count": null,
      "outputs": []
    },
    {
      "cell_type": "code",
      "metadata": {
        "id": "BEcdNhIqoCsJ"
      },
      "source": [
        "np.shape(data['spec_recons']), np.shape(data['wavelength'])"
      ],
      "execution_count": null,
      "outputs": []
    },
    {
      "cell_type": "markdown",
      "metadata": {
        "id": "Bwmq27YHpAVF"
      },
      "source": [
        "Let's plot the first few spectra to visualize our data"
      ]
    },
    {
      "cell_type": "code",
      "metadata": {
        "id": "dVgGjkejkuqZ"
      },
      "source": [
        "from matplotlib import pyplot as plt\n",
        "%matplotlib inline"
      ],
      "execution_count": null,
      "outputs": []
    },
    {
      "cell_type": "code",
      "metadata": {
        "id": "7WDy-qhddg9j"
      },
      "source": [
        "wavelength = data['wavelength']\n",
        "flux0 = data['spec_recons'][0,:]\n",
        "flux1 = data['spec_recons'][1,:]\n",
        "flux2 = data['spec_recons'][2,:]\n",
        "\n",
        "plt.plot(wavelength, flux0, 'k-')\n",
        "plt.plot(wavelength, flux1, 'b-')\n",
        "plt.plot(wavelength, flux2, 'r-')\n",
        "plt.ylabel(\"flux ($10^{-17}$ erg cm$^{-2}$ s$^{-1}$ Å$^{-1}$)\")\n",
        "plt.xlabel(\"wavelength (Angstroms)\")\n",
        "plt.title(\"Sample SDSS spectra\")"
      ],
      "execution_count": null,
      "outputs": []
    },
    {
      "cell_type": "markdown",
      "metadata": {
        "id": "diPr6neQrlRv"
      },
      "source": [
        "#### PART 1 - Get mean normalized spectrum *(25 pts.)*\n",
        "\n",
        "Plot the mean spectrum by first normalizing the spectra and plot the mean and standard deviation. For this, you may use the ``normalize`` function in scikit-learn's preprocessing module [(documentation)](https://scikit-learn.org/stable/modules/generated/sklearn.preprocessing.normalize.html). Describe the mean spectrum and note wavelengths with the highest variation across the sample. What is the reason for this variation?\n"
      ]
    },
    {
      "cell_type": "code",
      "source": [
        "from sklearn import preprocessing, decomposition"
      ],
      "metadata": {
        "id": "HfaCFHdOaFVj"
      },
      "execution_count": null,
      "outputs": []
    },
    {
      "cell_type": "code",
      "source": [
        "normalized_data = preprocessing.normalize(data[\"spec_recons\"])\n",
        "mean = normalized_data.mean(0)\n",
        "std = normalized_data.std(0)\n",
        "\n",
        "wl = data[\"wavelength\"]\n",
        "\n",
        "plt.plot(wl, mean, color=\"mediumseagreen\")\n",
        "plt.fill_between(wl, mean - std, mean + std, color=\"aquamarine\")\n",
        "plt.xlabel(\"wavelength [$\\AA$]\")"
      ],
      "metadata": {
        "id": "VG08EdOLZtln"
      },
      "execution_count": null,
      "outputs": []
    },
    {
      "cell_type": "markdown",
      "metadata": {
        "id": "Gwwrw04fsxmU"
      },
      "source": [
        "#### PART 2 - Get principal components *(75 pts.)*\n",
        "\n",
        "Perform Principal Component Analysis (PCA) and visualize the top principal components:\n",
        "1. Get the first 4 principal components using the ``PCA`` function in scikit-learn's decomposition module [(documentation)](https://scikit-learn.org/0.15/modules/generated/sklearn.decomposition.PCA.html#sklearn.decomposition.PCA). Make sure to use the normalized spectra as input. *(25 pts.)*\n"
      ]
    },
    {
      "cell_type": "code",
      "metadata": {
        "id": "gghpm55-4jxK"
      },
      "source": [
        "pca = decomposition.PCA(n_components=4)\n",
        "#Use fit_transform instead to include dimensionality reduction\n",
        "transformed_data = pca.fit_transform(normalized_data)"
      ],
      "execution_count": null,
      "outputs": []
    },
    {
      "cell_type": "markdown",
      "metadata": {
        "id": "Mg3eAVg5z0Nk"
      },
      "source": [
        "2. Plot the first two principal components (coefficient 1 in the x axis and coefficient 2 in the y axis). Make sure to label the axes and good to set x and y axis limits to be equal. *(25 pts.)*"
      ]
    },
    {
      "cell_type": "code",
      "source": [
        "plt.scatter(normalized_data[:, 0], normalized_data[:, 1], s=2)"
      ],
      "metadata": {
        "id": "vV_xgdVr6PXu"
      },
      "execution_count": null,
      "outputs": []
    },
    {
      "cell_type": "code",
      "metadata": {
        "id": "irbq797Q4jfF"
      },
      "source": [
        "plt.scatter(transformed_data[:, 0], transformed_data[:, 1], s=2, color=\"purple\")\n",
        "plt.xlim(-0.7, 1.1)\n",
        "plt.ylim(-0.7, 1.1)"
      ],
      "execution_count": null,
      "outputs": []
    },
    {
      "cell_type": "code",
      "source": [
        "plt.scatter(pca.components_[0], pca.components_[1], s=2)\n",
        "\n",
        "print(pca.components_[0]@pca.components_[1]/np.sqrt(pca.components_[0]@pca.components_[0])/np.sqrt(pca.components_[1]@pca.components_[1]))"
      ],
      "metadata": {
        "id": "79khz122L0wN"
      },
      "execution_count": null,
      "outputs": []
    },
    {
      "cell_type": "markdown",
      "metadata": {
        "id": "NzhhSmKJ2XSk"
      },
      "source": [
        "3. Plot the first 4 eigenvectors together with the mean spectrum. Add an arbitrary y-offset between the spectra for clarity. *(25 pts.)*"
      ]
    },
    {
      "cell_type": "code",
      "metadata": {
        "id": "bp61qYqe2qpw"
      },
      "source": [
        "for i in range(4):\n",
        "  plt.plot(wl, pca.components_[i] + i*2 + 2)\n",
        "plt.plot(wl, mean)"
      ],
      "execution_count": null,
      "outputs": []
    }
  ]
}